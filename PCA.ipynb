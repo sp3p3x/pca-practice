{
  "cells": [
    {
      "attachments": {},
      "cell_type": "markdown",
      "metadata": {
        "id": "YP4NnbgcK_HV"
      },
      "source": [
        "https://www.kaggle.com/datasets/fedesoriano/stellar-classification-dataset-sdss17"
      ]
    },
    {
      "cell_type": "code",
      "execution_count": 2,
      "metadata": {
        "id": "k3TKVdDUaMTP"
      },
      "outputs": [],
      "source": [
        "import numpy as np\n",
        "import pandas as pd"
      ]
    },
    {
      "cell_type": "code",
      "execution_count": 136,
      "metadata": {
        "id": "InxTMAataO-h"
      },
      "outputs": [],
      "source": [
        "names = [\"obj_ID\",\"alpha\",\"delta\",\"u\",\"g\",\"r\",\"i\",\"z\",\"run_ID\",\"rerun_ID\",\"cam_col\",\"field_ID\",\"spec_obj_ID\",\"class\",\"redshift\",\"plate\",\"MJD\",\"fiber_ID\"]\n",
        "dataset = pd.read_csv(\"star_classification.csv\", names=names)"
      ]
    },
    {
      "attachments": {},
      "cell_type": "markdown",
      "metadata": {},
      "source": [
        "Content\n",
        "The data consists of 100,000 observations of space taken by the SDSS (Sloan Digital Sky Survey). Every observation is described by 17 feature columns and 1 class column which identifies it to be either a star, galaxy or quasar.\n",
        "\n",
        "obj_ID = Object Identifier, the unique value that identifies the object in the image catalog used by the CAS\n",
        "alpha = Right Ascension angle (at J2000 epoch)\n",
        "delta = Declination angle (at J2000 epoch)\n",
        "u = Ultraviolet filter in the photometric system\n",
        "g = Green filter in the photometric system\n",
        "r = Red filter in the photometric system\n",
        "i = Near Infrared filter in the photometric system\n",
        "z = Infrared filter in the photometric system\n",
        "run_ID = Run Number used to identify the specific scan\n",
        "rereun_ID = Rerun Number to specify how the image was processed\n",
        "cam_col = Camera column to identify the scanline within the run\n",
        "field_ID = Field number to identify each field\n",
        "spec_obj_ID = Unique ID used for optical spectroscopic objects (this means that 2 different observations with the same spec_obj_ID must share the output class)\n",
        "class = object class (galaxy, star or quasar object)\n",
        "redshift = redshift value based on the increase in wavelength\n",
        "plate = plate ID, identifies each plate in SDSS\n",
        "MJD = Modified Julian Date, used to indicate when a given piece of SDSS data was taken\n",
        "fiber_ID = fiber ID that identifies the fiber that pointed the light at the focal plane in each observation"
      ]
    },
    {
      "cell_type": "code",
      "execution_count": 137,
      "metadata": {
        "colab": {
          "base_uri": "https://localhost:8080/",
          "height": 206
        },
        "id": "beyAeo8gafPS",
        "outputId": "d80235b3-c779-41e0-9221-dcc7b4de1c16"
      },
      "outputs": [
        {
          "data": {
            "text/html": [
              "<div>\n",
              "<style scoped>\n",
              "    .dataframe tbody tr th:only-of-type {\n",
              "        vertical-align: middle;\n",
              "    }\n",
              "\n",
              "    .dataframe tbody tr th {\n",
              "        vertical-align: top;\n",
              "    }\n",
              "\n",
              "    .dataframe thead th {\n",
              "        text-align: right;\n",
              "    }\n",
              "</style>\n",
              "<table border=\"1\" class=\"dataframe\">\n",
              "  <thead>\n",
              "    <tr style=\"text-align: right;\">\n",
              "      <th></th>\n",
              "      <th>obj_ID</th>\n",
              "      <th>alpha</th>\n",
              "      <th>delta</th>\n",
              "      <th>u</th>\n",
              "      <th>g</th>\n",
              "      <th>r</th>\n",
              "      <th>i</th>\n",
              "      <th>z</th>\n",
              "      <th>run_ID</th>\n",
              "      <th>rerun_ID</th>\n",
              "      <th>cam_col</th>\n",
              "      <th>field_ID</th>\n",
              "      <th>spec_obj_ID</th>\n",
              "      <th>class</th>\n",
              "      <th>redshift</th>\n",
              "      <th>plate</th>\n",
              "      <th>MJD</th>\n",
              "      <th>fiber_ID</th>\n",
              "    </tr>\n",
              "  </thead>\n",
              "  <tbody>\n",
              "    <tr>\n",
              "      <th>0</th>\n",
              "      <td>1.237661e+18</td>\n",
              "      <td>135.689107</td>\n",
              "      <td>32.494632</td>\n",
              "      <td>23.87882</td>\n",
              "      <td>22.27530</td>\n",
              "      <td>20.39501</td>\n",
              "      <td>19.16573</td>\n",
              "      <td>18.79371</td>\n",
              "      <td>3606</td>\n",
              "      <td>301</td>\n",
              "      <td>2</td>\n",
              "      <td>79</td>\n",
              "      <td>6.543777e+18</td>\n",
              "      <td>GALAXY</td>\n",
              "      <td>0.634794</td>\n",
              "      <td>5812</td>\n",
              "      <td>56354</td>\n",
              "      <td>171</td>\n",
              "    </tr>\n",
              "    <tr>\n",
              "      <th>1</th>\n",
              "      <td>1.237665e+18</td>\n",
              "      <td>144.826101</td>\n",
              "      <td>31.274185</td>\n",
              "      <td>24.77759</td>\n",
              "      <td>22.83188</td>\n",
              "      <td>22.58444</td>\n",
              "      <td>21.16812</td>\n",
              "      <td>21.61427</td>\n",
              "      <td>4518</td>\n",
              "      <td>301</td>\n",
              "      <td>5</td>\n",
              "      <td>119</td>\n",
              "      <td>1.176014e+19</td>\n",
              "      <td>GALAXY</td>\n",
              "      <td>0.779136</td>\n",
              "      <td>10445</td>\n",
              "      <td>58158</td>\n",
              "      <td>427</td>\n",
              "    </tr>\n",
              "    <tr>\n",
              "      <th>2</th>\n",
              "      <td>1.237661e+18</td>\n",
              "      <td>142.188790</td>\n",
              "      <td>35.582444</td>\n",
              "      <td>25.26307</td>\n",
              "      <td>22.66389</td>\n",
              "      <td>20.60976</td>\n",
              "      <td>19.34857</td>\n",
              "      <td>18.94827</td>\n",
              "      <td>3606</td>\n",
              "      <td>301</td>\n",
              "      <td>2</td>\n",
              "      <td>120</td>\n",
              "      <td>5.152200e+18</td>\n",
              "      <td>GALAXY</td>\n",
              "      <td>0.644195</td>\n",
              "      <td>4576</td>\n",
              "      <td>55592</td>\n",
              "      <td>299</td>\n",
              "    </tr>\n",
              "    <tr>\n",
              "      <th>3</th>\n",
              "      <td>1.237663e+18</td>\n",
              "      <td>338.741038</td>\n",
              "      <td>-0.402828</td>\n",
              "      <td>22.13682</td>\n",
              "      <td>23.77656</td>\n",
              "      <td>21.61162</td>\n",
              "      <td>20.50454</td>\n",
              "      <td>19.25010</td>\n",
              "      <td>4192</td>\n",
              "      <td>301</td>\n",
              "      <td>3</td>\n",
              "      <td>214</td>\n",
              "      <td>1.030107e+19</td>\n",
              "      <td>GALAXY</td>\n",
              "      <td>0.932346</td>\n",
              "      <td>9149</td>\n",
              "      <td>58039</td>\n",
              "      <td>775</td>\n",
              "    </tr>\n",
              "    <tr>\n",
              "      <th>4</th>\n",
              "      <td>1.237680e+18</td>\n",
              "      <td>345.282593</td>\n",
              "      <td>21.183866</td>\n",
              "      <td>19.43718</td>\n",
              "      <td>17.58028</td>\n",
              "      <td>16.49747</td>\n",
              "      <td>15.97711</td>\n",
              "      <td>15.54461</td>\n",
              "      <td>8102</td>\n",
              "      <td>301</td>\n",
              "      <td>3</td>\n",
              "      <td>137</td>\n",
              "      <td>6.891865e+18</td>\n",
              "      <td>GALAXY</td>\n",
              "      <td>0.116123</td>\n",
              "      <td>6121</td>\n",
              "      <td>56187</td>\n",
              "      <td>842</td>\n",
              "    </tr>\n",
              "  </tbody>\n",
              "</table>\n",
              "</div>"
            ],
            "text/plain": [
              "         obj_ID       alpha      delta         u         g         r  \\\n",
              "0  1.237661e+18  135.689107  32.494632  23.87882  22.27530  20.39501   \n",
              "1  1.237665e+18  144.826101  31.274185  24.77759  22.83188  22.58444   \n",
              "2  1.237661e+18  142.188790  35.582444  25.26307  22.66389  20.60976   \n",
              "3  1.237663e+18  338.741038  -0.402828  22.13682  23.77656  21.61162   \n",
              "4  1.237680e+18  345.282593  21.183866  19.43718  17.58028  16.49747   \n",
              "\n",
              "          i         z  run_ID  rerun_ID  cam_col  field_ID   spec_obj_ID  \\\n",
              "0  19.16573  18.79371    3606       301        2        79  6.543777e+18   \n",
              "1  21.16812  21.61427    4518       301        5       119  1.176014e+19   \n",
              "2  19.34857  18.94827    3606       301        2       120  5.152200e+18   \n",
              "3  20.50454  19.25010    4192       301        3       214  1.030107e+19   \n",
              "4  15.97711  15.54461    8102       301        3       137  6.891865e+18   \n",
              "\n",
              "    class  redshift  plate    MJD  fiber_ID  \n",
              "0  GALAXY  0.634794   5812  56354       171  \n",
              "1  GALAXY  0.779136  10445  58158       427  \n",
              "2  GALAXY  0.644195   4576  55592       299  \n",
              "3  GALAXY  0.932346   9149  58039       775  \n",
              "4  GALAXY  0.116123   6121  56187       842  "
            ]
          },
          "execution_count": 137,
          "metadata": {},
          "output_type": "execute_result"
        }
      ],
      "source": [
        "dataset.head()"
      ]
    },
    {
      "cell_type": "code",
      "execution_count": 144,
      "metadata": {
        "colab": {
          "base_uri": "https://localhost:8080/"
        },
        "id": "CoPiovmjavjh",
        "outputId": "add7d9fa-543b-4715-90ac-79d3b63d13c1"
      },
      "outputs": [
        {
          "name": "stderr",
          "output_type": "stream",
          "text": [
            "/tmp/ipykernel_106562/2373294760.py:1: FutureWarning: In a future version of pandas all arguments of DataFrame.drop except for the argument 'labels' will be keyword-only.\n",
            "  X = dataset.drop('class', 1)\n"
          ]
        }
      ],
      "source": [
        "X = dataset.drop('class', 1)\n",
        "y = dataset['class']"
      ]
    },
    {
      "cell_type": "code",
      "execution_count": 128,
      "metadata": {
        "colab": {
          "base_uri": "https://localhost:8080/",
          "height": 423
        },
        "id": "ZngHz8KOmj5l",
        "outputId": "42279a59-150e-41cc-ba9e-5f21d7ba0a79"
      },
      "outputs": [
        {
          "data": {
            "text/html": [
              "<div>\n",
              "<style scoped>\n",
              "    .dataframe tbody tr th:only-of-type {\n",
              "        vertical-align: middle;\n",
              "    }\n",
              "\n",
              "    .dataframe tbody tr th {\n",
              "        vertical-align: top;\n",
              "    }\n",
              "\n",
              "    .dataframe thead th {\n",
              "        text-align: right;\n",
              "    }\n",
              "</style>\n",
              "<table border=\"1\" class=\"dataframe\">\n",
              "  <thead>\n",
              "    <tr style=\"text-align: right;\">\n",
              "      <th></th>\n",
              "      <th>obj_ID</th>\n",
              "      <th>alpha</th>\n",
              "      <th>delta</th>\n",
              "      <th>u</th>\n",
              "      <th>g</th>\n",
              "      <th>r</th>\n",
              "      <th>i</th>\n",
              "      <th>z</th>\n",
              "      <th>run_ID</th>\n",
              "      <th>rerun_ID</th>\n",
              "      <th>cam_col</th>\n",
              "      <th>field_ID</th>\n",
              "      <th>spec_obj_ID</th>\n",
              "      <th>redshift</th>\n",
              "      <th>plate</th>\n",
              "      <th>MJD</th>\n",
              "      <th>fiber_ID</th>\n",
              "    </tr>\n",
              "  </thead>\n",
              "  <tbody>\n",
              "    <tr>\n",
              "      <th>0</th>\n",
              "      <td>1.237661e+18</td>\n",
              "      <td>135.689107</td>\n",
              "      <td>32.494632</td>\n",
              "      <td>23.87882</td>\n",
              "      <td>22.27530</td>\n",
              "      <td>20.39501</td>\n",
              "      <td>19.16573</td>\n",
              "      <td>18.79371</td>\n",
              "      <td>3606</td>\n",
              "      <td>301</td>\n",
              "      <td>2</td>\n",
              "      <td>79</td>\n",
              "      <td>6.543777e+18</td>\n",
              "      <td>0.634794</td>\n",
              "      <td>5812</td>\n",
              "      <td>56354</td>\n",
              "      <td>171</td>\n",
              "    </tr>\n",
              "    <tr>\n",
              "      <th>1</th>\n",
              "      <td>1.237665e+18</td>\n",
              "      <td>144.826101</td>\n",
              "      <td>31.274185</td>\n",
              "      <td>24.77759</td>\n",
              "      <td>22.83188</td>\n",
              "      <td>22.58444</td>\n",
              "      <td>21.16812</td>\n",
              "      <td>21.61427</td>\n",
              "      <td>4518</td>\n",
              "      <td>301</td>\n",
              "      <td>5</td>\n",
              "      <td>119</td>\n",
              "      <td>1.176014e+19</td>\n",
              "      <td>0.779136</td>\n",
              "      <td>10445</td>\n",
              "      <td>58158</td>\n",
              "      <td>427</td>\n",
              "    </tr>\n",
              "    <tr>\n",
              "      <th>2</th>\n",
              "      <td>1.237661e+18</td>\n",
              "      <td>142.188790</td>\n",
              "      <td>35.582444</td>\n",
              "      <td>25.26307</td>\n",
              "      <td>22.66389</td>\n",
              "      <td>20.60976</td>\n",
              "      <td>19.34857</td>\n",
              "      <td>18.94827</td>\n",
              "      <td>3606</td>\n",
              "      <td>301</td>\n",
              "      <td>2</td>\n",
              "      <td>120</td>\n",
              "      <td>5.152200e+18</td>\n",
              "      <td>0.644195</td>\n",
              "      <td>4576</td>\n",
              "      <td>55592</td>\n",
              "      <td>299</td>\n",
              "    </tr>\n",
              "    <tr>\n",
              "      <th>3</th>\n",
              "      <td>1.237663e+18</td>\n",
              "      <td>338.741038</td>\n",
              "      <td>-0.402828</td>\n",
              "      <td>22.13682</td>\n",
              "      <td>23.77656</td>\n",
              "      <td>21.61162</td>\n",
              "      <td>20.50454</td>\n",
              "      <td>19.25010</td>\n",
              "      <td>4192</td>\n",
              "      <td>301</td>\n",
              "      <td>3</td>\n",
              "      <td>214</td>\n",
              "      <td>1.030107e+19</td>\n",
              "      <td>0.932346</td>\n",
              "      <td>9149</td>\n",
              "      <td>58039</td>\n",
              "      <td>775</td>\n",
              "    </tr>\n",
              "    <tr>\n",
              "      <th>4</th>\n",
              "      <td>1.237680e+18</td>\n",
              "      <td>345.282593</td>\n",
              "      <td>21.183866</td>\n",
              "      <td>19.43718</td>\n",
              "      <td>17.58028</td>\n",
              "      <td>16.49747</td>\n",
              "      <td>15.97711</td>\n",
              "      <td>15.54461</td>\n",
              "      <td>8102</td>\n",
              "      <td>301</td>\n",
              "      <td>3</td>\n",
              "      <td>137</td>\n",
              "      <td>6.891865e+18</td>\n",
              "      <td>0.116123</td>\n",
              "      <td>6121</td>\n",
              "      <td>56187</td>\n",
              "      <td>842</td>\n",
              "    </tr>\n",
              "    <tr>\n",
              "      <th>...</th>\n",
              "      <td>...</td>\n",
              "      <td>...</td>\n",
              "      <td>...</td>\n",
              "      <td>...</td>\n",
              "      <td>...</td>\n",
              "      <td>...</td>\n",
              "      <td>...</td>\n",
              "      <td>...</td>\n",
              "      <td>...</td>\n",
              "      <td>...</td>\n",
              "      <td>...</td>\n",
              "      <td>...</td>\n",
              "      <td>...</td>\n",
              "      <td>...</td>\n",
              "      <td>...</td>\n",
              "      <td>...</td>\n",
              "      <td>...</td>\n",
              "    </tr>\n",
              "    <tr>\n",
              "      <th>99995</th>\n",
              "      <td>1.237679e+18</td>\n",
              "      <td>39.620709</td>\n",
              "      <td>-2.594074</td>\n",
              "      <td>22.16759</td>\n",
              "      <td>22.97586</td>\n",
              "      <td>21.90404</td>\n",
              "      <td>21.30548</td>\n",
              "      <td>20.73569</td>\n",
              "      <td>7778</td>\n",
              "      <td>301</td>\n",
              "      <td>2</td>\n",
              "      <td>581</td>\n",
              "      <td>1.055431e+19</td>\n",
              "      <td>0.000000</td>\n",
              "      <td>9374</td>\n",
              "      <td>57749</td>\n",
              "      <td>438</td>\n",
              "    </tr>\n",
              "    <tr>\n",
              "      <th>99996</th>\n",
              "      <td>1.237679e+18</td>\n",
              "      <td>29.493819</td>\n",
              "      <td>19.798874</td>\n",
              "      <td>22.69118</td>\n",
              "      <td>22.38628</td>\n",
              "      <td>20.45003</td>\n",
              "      <td>19.75759</td>\n",
              "      <td>19.41526</td>\n",
              "      <td>7917</td>\n",
              "      <td>301</td>\n",
              "      <td>1</td>\n",
              "      <td>289</td>\n",
              "      <td>8.586351e+18</td>\n",
              "      <td>0.404895</td>\n",
              "      <td>7626</td>\n",
              "      <td>56934</td>\n",
              "      <td>866</td>\n",
              "    </tr>\n",
              "    <tr>\n",
              "      <th>99997</th>\n",
              "      <td>1.237668e+18</td>\n",
              "      <td>224.587407</td>\n",
              "      <td>15.700707</td>\n",
              "      <td>21.16916</td>\n",
              "      <td>19.26997</td>\n",
              "      <td>18.20428</td>\n",
              "      <td>17.69034</td>\n",
              "      <td>17.35221</td>\n",
              "      <td>5314</td>\n",
              "      <td>301</td>\n",
              "      <td>4</td>\n",
              "      <td>308</td>\n",
              "      <td>3.112008e+18</td>\n",
              "      <td>0.143366</td>\n",
              "      <td>2764</td>\n",
              "      <td>54535</td>\n",
              "      <td>74</td>\n",
              "    </tr>\n",
              "    <tr>\n",
              "      <th>99998</th>\n",
              "      <td>1.237661e+18</td>\n",
              "      <td>212.268621</td>\n",
              "      <td>46.660365</td>\n",
              "      <td>25.35039</td>\n",
              "      <td>21.63757</td>\n",
              "      <td>19.91386</td>\n",
              "      <td>19.07254</td>\n",
              "      <td>18.62482</td>\n",
              "      <td>3650</td>\n",
              "      <td>301</td>\n",
              "      <td>4</td>\n",
              "      <td>131</td>\n",
              "      <td>7.601080e+18</td>\n",
              "      <td>0.455040</td>\n",
              "      <td>6751</td>\n",
              "      <td>56368</td>\n",
              "      <td>470</td>\n",
              "    </tr>\n",
              "    <tr>\n",
              "      <th>99999</th>\n",
              "      <td>1.237661e+18</td>\n",
              "      <td>196.896053</td>\n",
              "      <td>49.464643</td>\n",
              "      <td>22.62171</td>\n",
              "      <td>21.79745</td>\n",
              "      <td>20.60115</td>\n",
              "      <td>20.00959</td>\n",
              "      <td>19.28075</td>\n",
              "      <td>3650</td>\n",
              "      <td>301</td>\n",
              "      <td>4</td>\n",
              "      <td>60</td>\n",
              "      <td>8.343152e+18</td>\n",
              "      <td>0.542944</td>\n",
              "      <td>7410</td>\n",
              "      <td>57104</td>\n",
              "      <td>851</td>\n",
              "    </tr>\n",
              "  </tbody>\n",
              "</table>\n",
              "<p>100000 rows × 17 columns</p>\n",
              "</div>"
            ],
            "text/plain": [
              "             obj_ID       alpha      delta         u         g         r  \\\n",
              "0      1.237661e+18  135.689107  32.494632  23.87882  22.27530  20.39501   \n",
              "1      1.237665e+18  144.826101  31.274185  24.77759  22.83188  22.58444   \n",
              "2      1.237661e+18  142.188790  35.582444  25.26307  22.66389  20.60976   \n",
              "3      1.237663e+18  338.741038  -0.402828  22.13682  23.77656  21.61162   \n",
              "4      1.237680e+18  345.282593  21.183866  19.43718  17.58028  16.49747   \n",
              "...             ...         ...        ...       ...       ...       ...   \n",
              "99995  1.237679e+18   39.620709  -2.594074  22.16759  22.97586  21.90404   \n",
              "99996  1.237679e+18   29.493819  19.798874  22.69118  22.38628  20.45003   \n",
              "99997  1.237668e+18  224.587407  15.700707  21.16916  19.26997  18.20428   \n",
              "99998  1.237661e+18  212.268621  46.660365  25.35039  21.63757  19.91386   \n",
              "99999  1.237661e+18  196.896053  49.464643  22.62171  21.79745  20.60115   \n",
              "\n",
              "              i         z  run_ID  rerun_ID  cam_col  field_ID   spec_obj_ID  \\\n",
              "0      19.16573  18.79371    3606       301        2        79  6.543777e+18   \n",
              "1      21.16812  21.61427    4518       301        5       119  1.176014e+19   \n",
              "2      19.34857  18.94827    3606       301        2       120  5.152200e+18   \n",
              "3      20.50454  19.25010    4192       301        3       214  1.030107e+19   \n",
              "4      15.97711  15.54461    8102       301        3       137  6.891865e+18   \n",
              "...         ...       ...     ...       ...      ...       ...           ...   \n",
              "99995  21.30548  20.73569    7778       301        2       581  1.055431e+19   \n",
              "99996  19.75759  19.41526    7917       301        1       289  8.586351e+18   \n",
              "99997  17.69034  17.35221    5314       301        4       308  3.112008e+18   \n",
              "99998  19.07254  18.62482    3650       301        4       131  7.601080e+18   \n",
              "99999  20.00959  19.28075    3650       301        4        60  8.343152e+18   \n",
              "\n",
              "       redshift  plate    MJD  fiber_ID  \n",
              "0      0.634794   5812  56354       171  \n",
              "1      0.779136  10445  58158       427  \n",
              "2      0.644195   4576  55592       299  \n",
              "3      0.932346   9149  58039       775  \n",
              "4      0.116123   6121  56187       842  \n",
              "...         ...    ...    ...       ...  \n",
              "99995  0.000000   9374  57749       438  \n",
              "99996  0.404895   7626  56934       866  \n",
              "99997  0.143366   2764  54535        74  \n",
              "99998  0.455040   6751  56368       470  \n",
              "99999  0.542944   7410  57104       851  \n",
              "\n",
              "[100000 rows x 17 columns]"
            ]
          },
          "execution_count": 128,
          "metadata": {},
          "output_type": "execute_result"
        }
      ],
      "source": [
        "X"
      ]
    },
    {
      "cell_type": "code",
      "execution_count": 145,
      "metadata": {
        "id": "mSDUndw8av0o"
      },
      "outputs": [],
      "source": [
        "# Splitting the dataset into the Training set and Test set\n",
        "from sklearn.model_selection import train_test_split\n",
        "\n",
        "X_train, X_test, y_train, y_test = train_test_split(X, y, test_size=0.2, random_state=0)"
      ]
    },
    {
      "cell_type": "code",
      "execution_count": 130,
      "metadata": {
        "colab": {
          "base_uri": "https://localhost:8080/"
        },
        "id": "mccZhoLpmb3f",
        "outputId": "65e2aa87-e1f4-47cf-d593-047e70c09eef"
      },
      "outputs": [
        {
          "data": {
            "text/plain": [
              "(80000, 17)"
            ]
          },
          "execution_count": 130,
          "metadata": {},
          "output_type": "execute_result"
        }
      ],
      "source": [
        "X_train.shape"
      ]
    },
    {
      "cell_type": "code",
      "execution_count": 131,
      "metadata": {},
      "outputs": [
        {
          "data": {
            "text/html": [
              "<div>\n",
              "<style scoped>\n",
              "    .dataframe tbody tr th:only-of-type {\n",
              "        vertical-align: middle;\n",
              "    }\n",
              "\n",
              "    .dataframe tbody tr th {\n",
              "        vertical-align: top;\n",
              "    }\n",
              "\n",
              "    .dataframe thead th {\n",
              "        text-align: right;\n",
              "    }\n",
              "</style>\n",
              "<table border=\"1\" class=\"dataframe\">\n",
              "  <thead>\n",
              "    <tr style=\"text-align: right;\">\n",
              "      <th></th>\n",
              "      <th>obj_ID</th>\n",
              "      <th>alpha</th>\n",
              "      <th>delta</th>\n",
              "      <th>u</th>\n",
              "      <th>g</th>\n",
              "      <th>r</th>\n",
              "      <th>i</th>\n",
              "      <th>z</th>\n",
              "      <th>run_ID</th>\n",
              "      <th>rerun_ID</th>\n",
              "      <th>cam_col</th>\n",
              "      <th>field_ID</th>\n",
              "      <th>spec_obj_ID</th>\n",
              "      <th>redshift</th>\n",
              "      <th>plate</th>\n",
              "      <th>MJD</th>\n",
              "      <th>fiber_ID</th>\n",
              "    </tr>\n",
              "  </thead>\n",
              "  <tbody>\n",
              "    <tr>\n",
              "      <th>10382</th>\n",
              "      <td>1.237666e+18</td>\n",
              "      <td>248.650225</td>\n",
              "      <td>17.219264</td>\n",
              "      <td>25.55758</td>\n",
              "      <td>21.40075</td>\n",
              "      <td>19.58257</td>\n",
              "      <td>18.87423</td>\n",
              "      <td>18.34557</td>\n",
              "      <td>4671</td>\n",
              "      <td>301</td>\n",
              "      <td>6</td>\n",
              "      <td>135</td>\n",
              "      <td>4.575691e+18</td>\n",
              "      <td>0.412042</td>\n",
              "      <td>4064</td>\n",
              "      <td>55366</td>\n",
              "      <td>122</td>\n",
              "    </tr>\n",
              "    <tr>\n",
              "      <th>73171</th>\n",
              "      <td>1.237662e+18</td>\n",
              "      <td>228.034911</td>\n",
              "      <td>4.918393</td>\n",
              "      <td>25.31210</td>\n",
              "      <td>23.30647</td>\n",
              "      <td>21.88567</td>\n",
              "      <td>20.24809</td>\n",
              "      <td>20.38933</td>\n",
              "      <td>3910</td>\n",
              "      <td>301</td>\n",
              "      <td>2</td>\n",
              "      <td>119</td>\n",
              "      <td>2.063819e+18</td>\n",
              "      <td>-0.000288</td>\n",
              "      <td>1833</td>\n",
              "      <td>54561</td>\n",
              "      <td>162</td>\n",
              "    </tr>\n",
              "    <tr>\n",
              "      <th>30938</th>\n",
              "      <td>1.237670e+18</td>\n",
              "      <td>39.840078</td>\n",
              "      <td>26.771964</td>\n",
              "      <td>20.14939</td>\n",
              "      <td>18.97693</td>\n",
              "      <td>18.70521</td>\n",
              "      <td>18.61588</td>\n",
              "      <td>18.52578</td>\n",
              "      <td>5817</td>\n",
              "      <td>301</td>\n",
              "      <td>2</td>\n",
              "      <td>135</td>\n",
              "      <td>2.751736e+18</td>\n",
              "      <td>-0.000222</td>\n",
              "      <td>2444</td>\n",
              "      <td>54082</td>\n",
              "      <td>134</td>\n",
              "    </tr>\n",
              "    <tr>\n",
              "      <th>99310</th>\n",
              "      <td>1.237680e+18</td>\n",
              "      <td>5.026235</td>\n",
              "      <td>28.058156</td>\n",
              "      <td>19.75068</td>\n",
              "      <td>19.64277</td>\n",
              "      <td>19.36223</td>\n",
              "      <td>19.06267</td>\n",
              "      <td>18.91270</td>\n",
              "      <td>8103</td>\n",
              "      <td>301</td>\n",
              "      <td>5</td>\n",
              "      <td>126</td>\n",
              "      <td>8.662929e+18</td>\n",
              "      <td>0.244059</td>\n",
              "      <td>7694</td>\n",
              "      <td>57359</td>\n",
              "      <td>926</td>\n",
              "    </tr>\n",
              "    <tr>\n",
              "      <th>58959</th>\n",
              "      <td>1.237662e+18</td>\n",
              "      <td>194.879190</td>\n",
              "      <td>42.777076</td>\n",
              "      <td>22.09026</td>\n",
              "      <td>22.08509</td>\n",
              "      <td>21.83683</td>\n",
              "      <td>21.89166</td>\n",
              "      <td>21.45124</td>\n",
              "      <td>3893</td>\n",
              "      <td>301</td>\n",
              "      <td>5</td>\n",
              "      <td>223</td>\n",
              "      <td>9.430604e+18</td>\n",
              "      <td>0.867342</td>\n",
              "      <td>8376</td>\n",
              "      <td>57786</td>\n",
              "      <td>242</td>\n",
              "    </tr>\n",
              "    <tr>\n",
              "      <th>...</th>\n",
              "      <td>...</td>\n",
              "      <td>...</td>\n",
              "      <td>...</td>\n",
              "      <td>...</td>\n",
              "      <td>...</td>\n",
              "      <td>...</td>\n",
              "      <td>...</td>\n",
              "      <td>...</td>\n",
              "      <td>...</td>\n",
              "      <td>...</td>\n",
              "      <td>...</td>\n",
              "      <td>...</td>\n",
              "      <td>...</td>\n",
              "      <td>...</td>\n",
              "      <td>...</td>\n",
              "      <td>...</td>\n",
              "      <td>...</td>\n",
              "    </tr>\n",
              "    <tr>\n",
              "      <th>21243</th>\n",
              "      <td>1.237668e+18</td>\n",
              "      <td>178.659485</td>\n",
              "      <td>22.213454</td>\n",
              "      <td>23.02713</td>\n",
              "      <td>21.79717</td>\n",
              "      <td>20.15561</td>\n",
              "      <td>19.21565</td>\n",
              "      <td>18.74604</td>\n",
              "      <td>5183</td>\n",
              "      <td>301</td>\n",
              "      <td>3</td>\n",
              "      <td>310</td>\n",
              "      <td>7.231673e+18</td>\n",
              "      <td>0.479940</td>\n",
              "      <td>6423</td>\n",
              "      <td>56313</td>\n",
              "      <td>63</td>\n",
              "    </tr>\n",
              "    <tr>\n",
              "      <th>45891</th>\n",
              "      <td>1.237666e+18</td>\n",
              "      <td>231.520274</td>\n",
              "      <td>18.764341</td>\n",
              "      <td>20.39821</td>\n",
              "      <td>18.49582</td>\n",
              "      <td>17.39976</td>\n",
              "      <td>16.88339</td>\n",
              "      <td>16.45156</td>\n",
              "      <td>4670</td>\n",
              "      <td>301</td>\n",
              "      <td>1</td>\n",
              "      <td>226</td>\n",
              "      <td>2.430822e+18</td>\n",
              "      <td>0.108567</td>\n",
              "      <td>2159</td>\n",
              "      <td>54328</td>\n",
              "      <td>13</td>\n",
              "    </tr>\n",
              "    <tr>\n",
              "      <th>42613</th>\n",
              "      <td>1.237663e+18</td>\n",
              "      <td>334.856082</td>\n",
              "      <td>0.077762</td>\n",
              "      <td>18.97330</td>\n",
              "      <td>17.87081</td>\n",
              "      <td>17.44646</td>\n",
              "      <td>17.29562</td>\n",
              "      <td>17.20019</td>\n",
              "      <td>4192</td>\n",
              "      <td>301</td>\n",
              "      <td>4</td>\n",
              "      <td>188</td>\n",
              "      <td>1.288148e+18</td>\n",
              "      <td>-0.000550</td>\n",
              "      <td>1144</td>\n",
              "      <td>53238</td>\n",
              "      <td>432</td>\n",
              "    </tr>\n",
              "    <tr>\n",
              "      <th>43567</th>\n",
              "      <td>1.237651e+18</td>\n",
              "      <td>200.820199</td>\n",
              "      <td>65.272106</td>\n",
              "      <td>19.70816</td>\n",
              "      <td>18.40767</td>\n",
              "      <td>17.58343</td>\n",
              "      <td>17.22796</td>\n",
              "      <td>17.01092</td>\n",
              "      <td>1302</td>\n",
              "      <td>301</td>\n",
              "      <td>6</td>\n",
              "      <td>420</td>\n",
              "      <td>6.790177e+17</td>\n",
              "      <td>0.165433</td>\n",
              "      <td>603</td>\n",
              "      <td>52056</td>\n",
              "      <td>364</td>\n",
              "    </tr>\n",
              "    <tr>\n",
              "      <th>68268</th>\n",
              "      <td>1.237665e+18</td>\n",
              "      <td>208.022889</td>\n",
              "      <td>33.011931</td>\n",
              "      <td>25.22554</td>\n",
              "      <td>22.51116</td>\n",
              "      <td>20.83263</td>\n",
              "      <td>19.70239</td>\n",
              "      <td>19.19690</td>\n",
              "      <td>4576</td>\n",
              "      <td>301</td>\n",
              "      <td>4</td>\n",
              "      <td>576</td>\n",
              "      <td>4.347270e+18</td>\n",
              "      <td>0.581129</td>\n",
              "      <td>3861</td>\n",
              "      <td>55274</td>\n",
              "      <td>619</td>\n",
              "    </tr>\n",
              "  </tbody>\n",
              "</table>\n",
              "<p>80000 rows × 17 columns</p>\n",
              "</div>"
            ],
            "text/plain": [
              "             obj_ID       alpha      delta         u         g         r  \\\n",
              "10382  1.237666e+18  248.650225  17.219264  25.55758  21.40075  19.58257   \n",
              "73171  1.237662e+18  228.034911   4.918393  25.31210  23.30647  21.88567   \n",
              "30938  1.237670e+18   39.840078  26.771964  20.14939  18.97693  18.70521   \n",
              "99310  1.237680e+18    5.026235  28.058156  19.75068  19.64277  19.36223   \n",
              "58959  1.237662e+18  194.879190  42.777076  22.09026  22.08509  21.83683   \n",
              "...             ...         ...        ...       ...       ...       ...   \n",
              "21243  1.237668e+18  178.659485  22.213454  23.02713  21.79717  20.15561   \n",
              "45891  1.237666e+18  231.520274  18.764341  20.39821  18.49582  17.39976   \n",
              "42613  1.237663e+18  334.856082   0.077762  18.97330  17.87081  17.44646   \n",
              "43567  1.237651e+18  200.820199  65.272106  19.70816  18.40767  17.58343   \n",
              "68268  1.237665e+18  208.022889  33.011931  25.22554  22.51116  20.83263   \n",
              "\n",
              "              i         z  run_ID  rerun_ID  cam_col  field_ID   spec_obj_ID  \\\n",
              "10382  18.87423  18.34557    4671       301        6       135  4.575691e+18   \n",
              "73171  20.24809  20.38933    3910       301        2       119  2.063819e+18   \n",
              "30938  18.61588  18.52578    5817       301        2       135  2.751736e+18   \n",
              "99310  19.06267  18.91270    8103       301        5       126  8.662929e+18   \n",
              "58959  21.89166  21.45124    3893       301        5       223  9.430604e+18   \n",
              "...         ...       ...     ...       ...      ...       ...           ...   \n",
              "21243  19.21565  18.74604    5183       301        3       310  7.231673e+18   \n",
              "45891  16.88339  16.45156    4670       301        1       226  2.430822e+18   \n",
              "42613  17.29562  17.20019    4192       301        4       188  1.288148e+18   \n",
              "43567  17.22796  17.01092    1302       301        6       420  6.790177e+17   \n",
              "68268  19.70239  19.19690    4576       301        4       576  4.347270e+18   \n",
              "\n",
              "       redshift  plate    MJD  fiber_ID  \n",
              "10382  0.412042   4064  55366       122  \n",
              "73171 -0.000288   1833  54561       162  \n",
              "30938 -0.000222   2444  54082       134  \n",
              "99310  0.244059   7694  57359       926  \n",
              "58959  0.867342   8376  57786       242  \n",
              "...         ...    ...    ...       ...  \n",
              "21243  0.479940   6423  56313        63  \n",
              "45891  0.108567   2159  54328        13  \n",
              "42613 -0.000550   1144  53238       432  \n",
              "43567  0.165433    603  52056       364  \n",
              "68268  0.581129   3861  55274       619  \n",
              "\n",
              "[80000 rows x 17 columns]"
            ]
          },
          "execution_count": 131,
          "metadata": {},
          "output_type": "execute_result"
        }
      ],
      "source": [
        "X_train"
      ]
    },
    {
      "cell_type": "markdown",
      "metadata": {
        "id": "gqXACNaaVKfB"
      },
      "source": [
        "**Data Preprocessing**"
      ]
    },
    {
      "cell_type": "code",
      "execution_count": 146,
      "metadata": {
        "id": "y0JdyPCvav_Z"
      },
      "outputs": [],
      "source": [
        "from sklearn.preprocessing import StandardScaler\n",
        "\n",
        "sc = StandardScaler()\n",
        "X_train = sc.fit_transform(X_train)\n",
        "X_test = sc.transform(X_test)"
      ]
    },
    {
      "cell_type": "code",
      "execution_count": 114,
      "metadata": {},
      "outputs": [
        {
          "data": {
            "text/plain": [
              "(80000, 1)"
            ]
          },
          "execution_count": 114,
          "metadata": {},
          "output_type": "execute_result"
        }
      ],
      "source": [
        "X_train.shape"
      ]
    },
    {
      "cell_type": "code",
      "execution_count": 115,
      "metadata": {},
      "outputs": [
        {
          "data": {
            "text/plain": [
              "(20000, 1)"
            ]
          },
          "execution_count": 115,
          "metadata": {},
          "output_type": "execute_result"
        }
      ],
      "source": [
        "X_test.shape"
      ]
    },
    {
      "cell_type": "markdown",
      "metadata": {
        "id": "L-nX6Y_5VFHi"
      },
      "source": [
        "**Apply Random Forest classifier and get the model**"
      ]
    },
    {
      "cell_type": "code",
      "execution_count": 133,
      "metadata": {
        "id": "YfrUBx9sha3f"
      },
      "outputs": [],
      "source": [
        "from sklearn.ensemble import RandomForestClassifier\n",
        "\n",
        "classifier = RandomForestClassifier(random_state=0)\n",
        "classifier.fit(X_train, y_train)\n",
        "\n",
        "# Predicting the Test set results\n",
        "y_pred = classifier.predict(X_test)"
      ]
    },
    {
      "attachments": {},
      "cell_type": "markdown",
      "metadata": {},
      "source": [
        "Performance:\n",
        "\n",
        "Time: ~39sec\n",
        "\n",
        "[[11679   138    34]\n",
        " [  263  3571     1]\n",
        " [    8     0  4306]]\n",
        "\n",
        "Accuracy: 0.9778"
      ]
    },
    {
      "cell_type": "code",
      "execution_count": 141,
      "metadata": {},
      "outputs": [],
      "source": [
        "from sklearn.neighbors import KNeighborsClassifier\n",
        "\n",
        "reg_knn = KNeighborsClassifier()\n",
        "reg_knn.fit(X_train, y_train)\n",
        "y_pred = reg_knn.predict(X_test)"
      ]
    },
    {
      "attachments": {},
      "cell_type": "markdown",
      "metadata": {},
      "source": [
        "Performance:\n",
        "\n",
        "Time: ~13sec\n",
        "\n",
        "[[11424   122   305]\n",
        " [  670  3127    38]\n",
        " [  899     9  3406]]\n",
        "\n",
        "Accuracy: 0.89785"
      ]
    },
    {
      "cell_type": "code",
      "execution_count": 147,
      "metadata": {},
      "outputs": [],
      "source": [
        "from sklearn.svm import SVC\n",
        "\n",
        "reg_svc = SVC()\n",
        "reg_svc.fit(X_train, y_train)\n",
        "y_pred = reg_svc.predict(X_test)"
      ]
    },
    {
      "attachments": {},
      "cell_type": "markdown",
      "metadata": {},
      "source": [
        "Performance:\n",
        "\n",
        "Time: ~2min\n",
        "\n",
        "[[11469   135   247]\n",
        " [  393  3432    10]\n",
        " [   92     0  4222]]\n",
        "\n",
        "Accuracy: 0.95615"
      ]
    },
    {
      "cell_type": "code",
      "execution_count": 148,
      "metadata": {
        "colab": {
          "base_uri": "https://localhost:8080/"
        },
        "id": "xP3gEDPsRZ-f",
        "outputId": "31f55fe2-4d04-40f4-c8ff-c9e86ca64b10"
      },
      "outputs": [
        {
          "data": {
            "text/plain": [
              "array(['GALAXY', 'QSO', 'GALAXY', ..., 'GALAXY', 'GALAXY', 'STAR'],\n",
              "      dtype=object)"
            ]
          },
          "execution_count": 148,
          "metadata": {},
          "output_type": "execute_result"
        }
      ],
      "source": [
        "y_pred"
      ]
    },
    {
      "cell_type": "markdown",
      "metadata": {
        "id": "5ST1guJMU-QS"
      },
      "source": [
        "**Performance Evaluation using confusion matrix and accuracy score**"
      ]
    },
    {
      "cell_type": "code",
      "execution_count": 149,
      "metadata": {
        "colab": {
          "base_uri": "https://localhost:8080/"
        },
        "id": "P6Yx6m0WhhCL",
        "outputId": "9dca99ac-75cb-4904-9de5-e0cf99f5d0a3"
      },
      "outputs": [
        {
          "name": "stdout",
          "output_type": "stream",
          "text": [
            "[[11469   135   247]\n",
            " [  393  3432    10]\n",
            " [   92     0  4222]]\n",
            "\n",
            "Accuracy: 0.95615\n"
          ]
        }
      ],
      "source": [
        "from sklearn.metrics import confusion_matrix\n",
        "from sklearn.metrics import accuracy_score\n",
        "\n",
        "cm = confusion_matrix(y_test, y_pred)\n",
        "print(cm)\n",
        "print('\\nAccuracy: ' + str(accuracy_score(y_test, y_pred)))"
      ]
    },
    {
      "cell_type": "code",
      "execution_count": 150,
      "metadata": {
        "colab": {
          "base_uri": "https://localhost:8080/"
        },
        "id": "6iq_TOuGhk7T",
        "outputId": "335dd45c-020c-42c8-cdc6-6e4e8125ac5e"
      },
      "outputs": [
        {
          "data": {
            "text/plain": [
              "(80000, 17)"
            ]
          },
          "execution_count": 150,
          "metadata": {},
          "output_type": "execute_result"
        }
      ],
      "source": [
        "X_train.shape"
      ]
    },
    {
      "cell_type": "code",
      "execution_count": 151,
      "metadata": {
        "colab": {
          "base_uri": "https://localhost:8080/"
        },
        "id": "PH1CRD96h2Kr",
        "outputId": "6d3ee1a3-6efa-4412-add6-960abc0bdc9b"
      },
      "outputs": [
        {
          "data": {
            "text/plain": [
              "(80000, 17)"
            ]
          },
          "execution_count": 151,
          "metadata": {},
          "output_type": "execute_result"
        }
      ],
      "source": [
        "X_train.shape"
      ]
    },
    {
      "cell_type": "code",
      "execution_count": 152,
      "metadata": {
        "colab": {
          "base_uri": "https://localhost:8080/"
        },
        "id": "8kHtFZw-JnYT",
        "outputId": "3683c626-ae45-43f7-cd60-d8d12f0930e9"
      },
      "outputs": [
        {
          "data": {
            "text/plain": [
              "(20000, 17)"
            ]
          },
          "execution_count": 152,
          "metadata": {},
          "output_type": "execute_result"
        }
      ],
      "source": [
        "X_test.shape"
      ]
    },
    {
      "cell_type": "markdown",
      "metadata": {
        "id": "dFR7opGHVQjE"
      },
      "source": [
        "**Apply PCA and reduce Dimensionality**\n",
        "Try different components"
      ]
    },
    {
      "cell_type": "code",
      "execution_count": 162,
      "metadata": {
        "id": "4nqUfe7bbbZ9"
      },
      "outputs": [],
      "source": [
        "from sklearn.decomposition import PCA\n",
        "\n",
        "pca = PCA(n_components=1)\n",
        "X_train = pca.fit_transform(X_train)\n",
        "X_test = pca.transform(X_test)"
      ]
    },
    {
      "cell_type": "code",
      "execution_count": 159,
      "metadata": {
        "colab": {
          "base_uri": "https://localhost:8080/"
        },
        "id": "k09neRPgJKNL",
        "outputId": "18749347-5ae9-4433-90e8-7e756f17352e"
      },
      "outputs": [
        {
          "data": {
            "text/plain": [
              "(80000, 1)"
            ]
          },
          "execution_count": 159,
          "metadata": {},
          "output_type": "execute_result"
        }
      ],
      "source": [
        "X_train.shape "
      ]
    },
    {
      "cell_type": "code",
      "execution_count": 155,
      "metadata": {
        "colab": {
          "base_uri": "https://localhost:8080/"
        },
        "id": "DMkMs8dHJ-nt",
        "outputId": "faf92b57-e5e1-43f7-f338-1daf1c1c1cb6"
      },
      "outputs": [
        {
          "data": {
            "text/plain": [
              "(20000, 1)"
            ]
          },
          "execution_count": 155,
          "metadata": {},
          "output_type": "execute_result"
        }
      ],
      "source": [
        "X_test.shape"
      ]
    },
    {
      "cell_type": "markdown",
      "metadata": {
        "id": "MX0yASnCVZu-"
      },
      "source": [
        "**Apply Random forest on the Dimension reduced data**"
      ]
    },
    {
      "cell_type": "code",
      "execution_count": 163,
      "metadata": {
        "id": "qFzqTECxbbhj"
      },
      "outputs": [],
      "source": [
        "from sklearn.ensemble import RandomForestClassifier\n",
        "\n",
        "classifier = RandomForestClassifier(max_depth=2, random_state=0)\n",
        "classifier.fit(X_train, y_train)\n",
        "\n",
        "# Predicting the Test set results\n",
        "y_pred = classifier.predict(X_test)"
      ]
    },
    {
      "cell_type": "code",
      "execution_count": 165,
      "metadata": {},
      "outputs": [],
      "source": [
        "from sklearn.neighbors import KNeighborsClassifier\n",
        "\n",
        "reg_knn = KNeighborsClassifier()\n",
        "reg_knn.fit(X_train, y_train)\n",
        "y_pred = reg_knn.predict(X_test)"
      ]
    },
    {
      "cell_type": "code",
      "execution_count": 167,
      "metadata": {},
      "outputs": [],
      "source": [
        "from sklearn.svm import SVC\n",
        "\n",
        "reg_svc = SVC()\n",
        "reg_svc.fit(X_train, y_train)\n",
        "y_pred = reg_svc.predict(X_test)"
      ]
    },
    {
      "cell_type": "markdown",
      "metadata": {
        "id": "qA9CxbZ2Vhvy"
      },
      "source": [
        "**Performance Evaluation on new Data**"
      ]
    },
    {
      "cell_type": "code",
      "execution_count": 166,
      "metadata": {
        "colab": {
          "base_uri": "https://localhost:8080/"
        },
        "id": "sidCbrbmbblH",
        "outputId": "20d89729-d1ee-4806-c907-7330be11806c"
      },
      "outputs": [
        {
          "name": "stdout",
          "output_type": "stream",
          "text": [
            "[[9499 1315 1037]\n",
            " [2381 1236  218]\n",
            " [3057  336  921]]\n",
            "Accuracy0.5828\n"
          ]
        }
      ],
      "source": [
        "from sklearn.metrics import confusion_matrix\n",
        "from sklearn.metrics import accuracy_score\n",
        "\n",
        "cm = confusion_matrix(y_test, y_pred)\n",
        "print(cm)\n",
        "print('Accuracy' + str(accuracy_score(y_test, y_pred)))"
      ]
    }
  ],
  "metadata": {
    "colab": {
      "provenance": []
    },
    "kernelspec": {
      "display_name": "Python 3",
      "language": "python",
      "name": "python3"
    },
    "language_info": {
      "codemirror_mode": {
        "name": "ipython",
        "version": 3
      },
      "file_extension": ".py",
      "mimetype": "text/x-python",
      "name": "python",
      "nbconvert_exporter": "python",
      "pygments_lexer": "ipython3",
      "version": "3.9.2"
    },
    "vscode": {
      "interpreter": {
        "hash": "916dbcbb3f70747c44a77c7bcd40155683ae19c65e1c03b4aa3499c5328201f1"
      }
    }
  },
  "nbformat": 4,
  "nbformat_minor": 0
}
